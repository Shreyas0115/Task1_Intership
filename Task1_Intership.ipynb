{
  "metadata": {
    "kernelspec": {
      "name": "python",
      "display_name": "Python (Pyodide)",
      "language": "python"
    },
    "language_info": {
      "codemirror_mode": {
        "name": "python",
        "version": 3
      },
      "file_extension": ".py",
      "mimetype": "text/x-python",
      "name": "python",
      "nbconvert_exporter": "python",
      "pygments_lexer": "ipython3",
      "version": "3.8"
    }
  },
  "nbformat_minor": 5,
  "nbformat": 4,
  "cells": [
    {
      "id": "7f235ee1-8646-4855-9f37-bd566c4c7335",
      "cell_type": "markdown",
      "source": "# <u>Task 1: Data Cleaning & Preprocessing</u>\n* Objective: Clean and prepare raw data for machine learning.\n* Tools Used: Python, Pandas, NumPy, Seaborn, Matplotlib\n\n",
      "metadata": {}
    },
    {
      "id": "29c5c33a-9375-4800-955a-e0c9d2739ec8",
      "cell_type": "markdown",
      "source": "**Step 1: Import libraries**\n|",
      "metadata": {}
    },
    {
      "id": "229b8ce6-6ae9-452a-8157-8776e79cb28d",
      "cell_type": "code",
      "source": "import pandas as pd\nimport numpy as np\nimport matplotlib.pyplot as plt\nfrom sklearn.preprocessing import StandardScaler, MinMaxScaler, LabelEncoder, OneHotEncoder",
      "metadata": {
        "trusted": true
      },
      "outputs": [],
      "execution_count": 27
    },
    {
      "id": "52cf21cf-bda8-47f8-b5cd-aa5b30796489",
      "cell_type": "markdown",
      "source": " **Step 2: Load dataset**",
      "metadata": {}
    },
    {
      "id": "1f4c32b7-788c-4eac-9f1c-fe2b8b25b8c4",
      "cell_type": "code",
      "source": "df = pd.read_csv('Titanic-Dataset.csv')",
      "metadata": {
        "trusted": true
      },
      "outputs": [],
      "execution_count": 28
    },
    {
      "id": "69969113-7c71-4da1-b09e-13e4d56ccffa",
      "cell_type": "markdown",
      "source": "<u>**See first few rows**</u>",
      "metadata": {}
    },
    {
      "id": "ec8037fb-bd2d-455e-9dbd-aeab5f330637",
      "cell_type": "code",
      "source": "df.head()",
      "metadata": {
        "trusted": true
      },
      "outputs": [
        {
          "execution_count": 29,
          "output_type": "execute_result",
          "data": {
            "text/plain": "   PassengerId  Survived  Pclass  \\\n0            1         0       3   \n1            2         1       1   \n2            3         1       3   \n3            4         1       1   \n4            5         0       3   \n\n                                                Name     Sex   Age  SibSp  \\\n0                            Braund, Mr. Owen Harris    male  22.0      1   \n1  Cumings, Mrs. John Bradley (Florence Briggs Th...  female  38.0      1   \n2                             Heikkinen, Miss. Laina  female  26.0      0   \n3       Futrelle, Mrs. Jacques Heath (Lily May Peel)  female  35.0      1   \n4                           Allen, Mr. William Henry    male  35.0      0   \n\n   Parch            Ticket     Fare Cabin Embarked  \n0      0         A/5 21171   7.2500   NaN        S  \n1      0          PC 17599  71.2833   C85        C  \n2      0  STON/O2. 3101282   7.9250   NaN        S  \n3      0            113803  53.1000  C123        S  \n4      0            373450   8.0500   NaN        S  ",
            "text/html": "<div>\n<style scoped>\n    .dataframe tbody tr th:only-of-type {\n        vertical-align: middle;\n    }\n\n    .dataframe tbody tr th {\n        vertical-align: top;\n    }\n\n    .dataframe thead th {\n        text-align: right;\n    }\n</style>\n<table border=\"1\" class=\"dataframe\">\n  <thead>\n    <tr style=\"text-align: right;\">\n      <th></th>\n      <th>PassengerId</th>\n      <th>Survived</th>\n      <th>Pclass</th>\n      <th>Name</th>\n      <th>Sex</th>\n      <th>Age</th>\n      <th>SibSp</th>\n      <th>Parch</th>\n      <th>Ticket</th>\n      <th>Fare</th>\n      <th>Cabin</th>\n      <th>Embarked</th>\n    </tr>\n  </thead>\n  <tbody>\n    <tr>\n      <th>0</th>\n      <td>1</td>\n      <td>0</td>\n      <td>3</td>\n      <td>Braund, Mr. Owen Harris</td>\n      <td>male</td>\n      <td>22.0</td>\n      <td>1</td>\n      <td>0</td>\n      <td>A/5 21171</td>\n      <td>7.2500</td>\n      <td>NaN</td>\n      <td>S</td>\n    </tr>\n    <tr>\n      <th>1</th>\n      <td>2</td>\n      <td>1</td>\n      <td>1</td>\n      <td>Cumings, Mrs. John Bradley (Florence Briggs Th...</td>\n      <td>female</td>\n      <td>38.0</td>\n      <td>1</td>\n      <td>0</td>\n      <td>PC 17599</td>\n      <td>71.2833</td>\n      <td>C85</td>\n      <td>C</td>\n    </tr>\n    <tr>\n      <th>2</th>\n      <td>3</td>\n      <td>1</td>\n      <td>3</td>\n      <td>Heikkinen, Miss. Laina</td>\n      <td>female</td>\n      <td>26.0</td>\n      <td>0</td>\n      <td>0</td>\n      <td>STON/O2. 3101282</td>\n      <td>7.9250</td>\n      <td>NaN</td>\n      <td>S</td>\n    </tr>\n    <tr>\n      <th>3</th>\n      <td>4</td>\n      <td>1</td>\n      <td>1</td>\n      <td>Futrelle, Mrs. Jacques Heath (Lily May Peel)</td>\n      <td>female</td>\n      <td>35.0</td>\n      <td>1</td>\n      <td>0</td>\n      <td>113803</td>\n      <td>53.1000</td>\n      <td>C123</td>\n      <td>S</td>\n    </tr>\n    <tr>\n      <th>4</th>\n      <td>5</td>\n      <td>0</td>\n      <td>3</td>\n      <td>Allen, Mr. William Henry</td>\n      <td>male</td>\n      <td>35.0</td>\n      <td>0</td>\n      <td>0</td>\n      <td>373450</td>\n      <td>8.0500</td>\n      <td>NaN</td>\n      <td>S</td>\n    </tr>\n  </tbody>\n</table>\n</div>"
          },
          "metadata": {}
        }
      ],
      "execution_count": 29
    },
    {
      "id": "5eceb423-dd93-4d5d-9c6f-8493f184def4",
      "cell_type": "markdown",
      "source": "**Step 3: Basic exploration**",
      "metadata": {}
    },
    {
      "id": "07897869-80e8-4ada-a853-bffd72c1aa6d",
      "cell_type": "code",
      "source": "print(df.info())",
      "metadata": {
        "trusted": true
      },
      "outputs": [
        {
          "name": "stdout",
          "output_type": "stream",
          "text": "<class 'pandas.core.frame.DataFrame'>\nRangeIndex: 891 entries, 0 to 890\nData columns (total 12 columns):\n #   Column       Non-Null Count  Dtype  \n---  ------       --------------  -----  \n 0   PassengerId  891 non-null    int64  \n 1   Survived     891 non-null    int64  \n 2   Pclass       891 non-null    int64  \n 3   Name         891 non-null    object \n 4   Sex          891 non-null    object \n 5   Age          714 non-null    float64\n 6   SibSp        891 non-null    int64  \n 7   Parch        891 non-null    int64  \n 8   Ticket       891 non-null    object \n 9   Fare         891 non-null    float64\n 10  Cabin        204 non-null    object \n 11  Embarked     889 non-null    object \ndtypes: float64(2), int64(5), object(5)\nmemory usage: 66.2+ KB\nNone\n"
        }
      ],
      "execution_count": 30
    },
    {
      "id": "01d702a7-c528-4a0d-a8ce-1643f37cf6e6",
      "cell_type": "code",
      "source": "print(df.isnull().sum())",
      "metadata": {
        "trusted": true
      },
      "outputs": [
        {
          "name": "stdout",
          "output_type": "stream",
          "text": "PassengerId      0\nSurvived         0\nPclass           0\nName             0\nSex              0\nAge            177\nSibSp            0\nParch            0\nTicket           0\nFare             0\nCabin          687\nEmbarked         2\ndtype: int64\n"
        }
      ],
      "execution_count": 31
    },
    {
      "id": "bb9ed28a-79a3-458a-ac2f-6de4e0cde167",
      "cell_type": "code",
      "source": "print(df.describe())",
      "metadata": {
        "trusted": true,
        "scrolled": true
      },
      "outputs": [
        {
          "name": "stdout",
          "output_type": "stream",
          "text": "       PassengerId    Survived      Pclass         Age       SibSp  \\\ncount   891.000000  891.000000  891.000000  714.000000  891.000000   \nmean    446.000000    0.383838    2.308642   29.699118    0.523008   \nstd     257.353842    0.486592    0.836071   14.526497    1.102743   \nmin       1.000000    0.000000    1.000000    0.420000    0.000000   \n25%     223.500000    0.000000    2.000000   20.125000    0.000000   \n50%     446.000000    0.000000    3.000000   28.000000    0.000000   \n75%     668.500000    1.000000    3.000000   38.000000    1.000000   \nmax     891.000000    1.000000    3.000000   80.000000    8.000000   \n\n            Parch        Fare  \ncount  891.000000  891.000000  \nmean     0.381594   32.204208  \nstd      0.806057   49.693429  \nmin      0.000000    0.000000  \n25%      0.000000    7.910400  \n50%      0.000000   14.454200  \n75%      0.000000   31.000000  \nmax      6.000000  512.329200  \n"
        }
      ],
      "execution_count": 32
    },
    {
      "id": "743e793e-0e58-434a-bcce-4dc3e9556c7d",
      "cell_type": "markdown",
      "source": "**Step 4: Handle missing values**",
      "metadata": {}
    },
    {
      "id": "d7866756-c8a8-4b3c-84d1-5efe807df895",
      "cell_type": "markdown",
      "source": "<u>**1. Age has missing values — fill with median**</u>",
      "metadata": {}
    },
    {
      "id": "495f1b97-c1dd-414f-85da-a10ad381c8b3",
      "cell_type": "code",
      "source": "df['Age'] = df['Age'].fillna(df['Age'].median())",
      "metadata": {
        "trusted": true
      },
      "outputs": [],
      "execution_count": 33
    },
    {
      "id": "8baf3eab-7ca8-4f2e-85e7-b1c4724883e1",
      "cell_type": "markdown",
      "source": "<u>**2. Embarked has missing values — fill with mode**</u>",
      "metadata": {}
    },
    {
      "id": "0c7fc35d-b186-442c-8119-37d2c55faf74",
      "cell_type": "code",
      "source": "df['Embarked'] = df['Embarked'].fillna(df['Embarked'].mode()[0])",
      "metadata": {
        "trusted": true
      },
      "outputs": [],
      "execution_count": 34
    },
    {
      "id": "6729485a-7587-47ed-8e07-b02b2b8903ca",
      "cell_type": "markdown",
      "source": "**Drop Cabin (too many nulls)**",
      "metadata": {}
    },
    {
      "id": "6cd71e26-942d-4373-9b16-4d9696829037",
      "cell_type": "code",
      "source": "df.drop('Cabin', axis=1, inplace=True)",
      "metadata": {
        "trusted": true
      },
      "outputs": [],
      "execution_count": 35
    },
    {
      "id": "18db0bc3-1c4e-4a1f-a7c1-a61758baf014",
      "cell_type": "code",
      "source": "df['Age'].head()",
      "metadata": {
        "trusted": true
      },
      "outputs": [
        {
          "execution_count": 37,
          "output_type": "execute_result",
          "data": {
            "text/plain": "0    22.0\n1    38.0\n2    26.0\n3    35.0\n4    35.0\nName: Age, dtype: float64"
          },
          "metadata": {}
        }
      ],
      "execution_count": 37
    },
    {
      "id": "e930478a-60b1-4a69-89f4-ed42454222d7",
      "cell_type": "code",
      "source": "df['Embarked'].head()",
      "metadata": {
        "trusted": true
      },
      "outputs": [
        {
          "execution_count": 38,
          "output_type": "execute_result",
          "data": {
            "text/plain": "0    S\n1    C\n2    S\n3    S\n4    S\nName: Embarked, dtype: object"
          },
          "metadata": {}
        }
      ],
      "execution_count": 38
    },
    {
      "id": "d65df3c1-bd27-4978-82a1-89717f8b4119",
      "cell_type": "code",
      "source": "df['Sex'].head()",
      "metadata": {
        "trusted": true
      },
      "outputs": [
        {
          "execution_count": 39,
          "output_type": "execute_result",
          "data": {
            "text/plain": "0    1\n1    0\n2    0\n3    0\n4    1\nName: Sex, dtype: int32"
          },
          "metadata": {}
        }
      ],
      "execution_count": 39
    },
    {
      "id": "8b2cf55b-43cb-4861-b196-2fce6428413b",
      "cell_type": "markdown",
      "source": "**Step 5: Encode categorical variables**",
      "metadata": {}
    },
    {
      "id": "9abca679-2ceb-4f4c-95f7-3c59051ac3e5",
      "cell_type": "code",
      "source": "df['Sex'] = LabelEncoder().fit_transform(df['Sex'])",
      "metadata": {
        "trusted": true
      },
      "outputs": [],
      "execution_count": 36
    },
    {
      "id": "1ca451be-66f6-44f0-9ed5-d266f20866e9",
      "cell_type": "markdown",
      "source": "<u>**One-Hot Encode 'Embarked'**</u>",
      "metadata": {}
    },
    {
      "id": "15f67a65-71ac-4c09-b063-5c13264ca341",
      "cell_type": "code",
      "source": "df = pd.get_dummies(df, columns=['Embarked'], drop_first=True)",
      "metadata": {
        "trusted": true
      },
      "outputs": [],
      "execution_count": 40
    },
    {
      "id": "adbc9d83-28a6-4c95-8d28-9a984b888eab",
      "cell_type": "markdown",
      "source": "**Step 6: Normalize/Standardize numerical features**\n* Normalize Age and Fare using MinMaxScaler",
      "metadata": {}
    },
    {
      "id": "4bf8cde4-7651-4abc-bb96-1b0d079b0052",
      "cell_type": "code",
      "source": "scaler = MinMaxScaler()\ndf[['Age', 'Fare']] = scaler.fit_transform(df[['Age', 'Fare']])",
      "metadata": {
        "trusted": true
      },
      "outputs": [],
      "execution_count": 41
    },
    {
      "id": "a2f220b5-5f41-46e1-b209-a4a01319cb30",
      "cell_type": "markdown",
      "source": "**Step 7: Visualize with a box plot**",
      "metadata": {}
    },
    {
      "id": "b84a0ab4-c03d-4bf3-a866-b328ca649169",
      "cell_type": "code",
      "source": "plt.boxplot([df['Age'], df['Fare']], labels=['Age', 'Fare'])\nplt.title('Boxplot for Age and Fare')\nplt.ylabel('Values')\nplt.grid(True)\nplt.show()",
      "metadata": {
        "trusted": true
      },
      "outputs": [
        {
          "output_type": "display_data",
          "data": {
            "text/plain": "<Figure size 640x480 with 1 Axes>",
            "image/png": "[encoded data removed]"
          },
          "metadata": {}
        }
      ],
      "execution_count": 42
    },
    {
      "id": "fb6a720f-6d2f-4146-8177-25bab93268f7",
      "cell_type": "markdown",
      "source": "**Remove outliers using IQR**",
      "metadata": {}
    },
    {
      "id": "d28367cd-7c64-497f-82d6-afea0a2e00ae",
      "cell_type": "code",
      "source": "def remove_outliers_iqr(df, col):\n    Q1 = df[col].quantile(0.25)\n    Q3 = df[col].quantile(0.75)\n    IQR = Q3 - Q1\n    lower = Q1 - 1.5 * IQR\n    upper = Q3 + 1.5 * IQR\n    return df[(df[col] >= lower) & (df[col] <= upper)]\n\ndf = remove_outliers_iqr(df, 'Fare')\ndf = remove_outliers_iqr(df, 'Age')\n",
      "metadata": {
        "trusted": true
      },
      "outputs": [],
      "execution_count": 43
    },
    {
      "id": "47558140-e97d-4a44-98fc-cf09a7929431",
      "cell_type": "code",
      "source": "print(df.head())",
      "metadata": {
        "trusted": true
      },
      "outputs": [
        {
          "name": "stdout",
          "output_type": "stream",
          "text": "   PassengerId  Survived  Pclass  \\\n0            1         0       3   \n2            3         1       3   \n3            4         1       1   \n4            5         0       3   \n5            6         0       3   \n\n                                           Name  Sex       Age  SibSp  Parch  \\\n0                       Braund, Mr. Owen Harris    1  0.271174      1      0   \n2                        Heikkinen, Miss. Laina    0  0.321438      0      0   \n3  Futrelle, Mrs. Jacques Heath (Lily May Peel)    0  0.434531      1      0   \n4                      Allen, Mr. William Henry    1  0.434531      0      0   \n5                              Moran, Mr. James    1  0.346569      0      0   \n\n             Ticket      Fare  Embarked_Q  Embarked_S  \n0         A/5 21171  0.014151       False        True  \n2  STON/O2. 3101282  0.015469       False        True  \n3            113803  0.103644       False        True  \n4            373450  0.015713       False        True  \n5            330877  0.016510        True       False  \n"
        }
      ],
      "execution_count": 44
    },
    {
      "id": "78448d88-4eb3-4c05-8301-ddc741de4379",
      "cell_type": "code",
      "source": "",
      "metadata": {
        "trusted": true
      },
      "outputs": [],
      "execution_count": null
    }
  ]
}